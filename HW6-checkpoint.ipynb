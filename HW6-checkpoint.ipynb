{
 "cells": [
  {
   "cell_type": "markdown",
   "metadata": {},
   "source": [
    "#Homework 6"
   ]
  },
  {
   "cell_type": "code",
   "execution_count": 1,
   "metadata": {
    "collapsed": true
   },
   "outputs": [],
   "source": [
    "#1"
   ]
  },
  {
   "cell_type": "code",
   "execution_count": 2,
   "metadata": {
    "collapsed": true
   },
   "outputs": [],
   "source": [
    "import quandl\n",
    "with open('key_quandl.txt','r') as f:\n",
    "    key=f.read()"
   ]
  },
  {
   "cell_type": "code",
   "execution_count": 3,
   "metadata": {
    "collapsed": false
   },
   "outputs": [
    {
     "data": {
      "text/html": [
       "<div>\n",
       "<table border=\"1\" class=\"dataframe\">\n",
       "  <thead>\n",
       "    <tr style=\"text-align: right;\">\n",
       "      <th></th>\n",
       "      <th>ARM_TOT</th>\n",
       "      <th>LUX_TOT</th>\n",
       "    </tr>\n",
       "    <tr>\n",
       "      <th>Date</th>\n",
       "      <th></th>\n",
       "      <th></th>\n",
       "    </tr>\n",
       "  </thead>\n",
       "  <tbody>\n",
       "    <tr>\n",
       "      <th>1977-12-31</th>\n",
       "      <td>0.942778</td>\n",
       "      <td>1.016897</td>\n",
       "    </tr>\n",
       "    <tr>\n",
       "      <th>1978-12-31</th>\n",
       "      <td>0.975823</td>\n",
       "      <td>1.026276</td>\n",
       "    </tr>\n",
       "    <tr>\n",
       "      <th>1979-12-31</th>\n",
       "      <td>1.077300</td>\n",
       "      <td>1.024777</td>\n",
       "    </tr>\n",
       "    <tr>\n",
       "      <th>1980-12-31</th>\n",
       "      <td>1.224179</td>\n",
       "      <td>1.023726</td>\n",
       "    </tr>\n",
       "    <tr>\n",
       "      <th>1981-12-31</th>\n",
       "      <td>1.188159</td>\n",
       "      <td>1.019265</td>\n",
       "    </tr>\n",
       "  </tbody>\n",
       "</table>\n",
       "</div>"
      ],
      "text/plain": [
       "             ARM_TOT   LUX_TOT\n",
       "Date                          \n",
       "1977-12-31  0.942778  1.016897\n",
       "1978-12-31  0.975823  1.026276\n",
       "1979-12-31  1.077300  1.024777\n",
       "1980-12-31  1.224179  1.023726\n",
       "1981-12-31  1.188159  1.019265"
      ]
     },
     "execution_count": 3,
     "metadata": {},
     "output_type": "execute_result"
    }
   ],
   "source": [
    "data=quandl.get(['WORLDBANK/ARM_TOT','WORLDBANK/LUX_TOT'], authtoken =key, trim_start='1977-1-1', collapse='annual')\n",
    "data.columns=['ARM_TOT','LUX_TOT']\n",
    "data.head()"
   ]
  },
  {
   "cell_type": "code",
   "execution_count": 4,
   "metadata": {
    "collapsed": false
   },
   "outputs": [
    {
     "data": {
      "text/plain": [
       "<matplotlib.axes._subplots.AxesSubplot at 0xa4e7588>"
      ]
     },
     "execution_count": 4,
     "metadata": {},
     "output_type": "execute_result"
    },
    {
     "data": {
      "image/png": "[encoded data removed]",
      "text/plain": [
       "<matplotlib.figure.Figure at 0xa331a20>"
      ]
     },
     "metadata": {},
     "output_type": "display_data"
    }
   ],
   "source": [
    "import matplotlib as plt\n",
    "%matplotlib inline\n",
    "data.plot()"
   ]
  },
  {
   "cell_type": "code",
   "execution_count": 5,
   "metadata": {
    "collapsed": true
   },
   "outputs": [],
   "source": [
    "#2"
   ]
  },
  {
   "cell_type": "code",
   "execution_count": 6,
   "metadata": {
    "collapsed": true
   },
   "outputs": [],
   "source": [
    "def second_largest(numbers):\n",
    "    count=0\n",
    "    m1 = m2 = float('-inf')\n",
    "    for x in numbers:\n",
    "        count += 1\n",
    "        if x > m2:\n",
    "            if x >= m1:\n",
    "                m1, m2 = x, m1            \n",
    "            else:\n",
    "                m2 = x\n",
    "    return m2 if count >= 2 else None"
   ]
  },
  {
   "cell_type": "code",
   "execution_count": 7,
   "metadata": {
    "collapsed": false
   },
   "outputs": [
    {
     "name": "stdout",
     "output_type": "stream",
     "text": [
      "The secong largest value for Arm TOT is 1.22417921215\n"
     ]
    }
   ],
   "source": [
    "x=second_largest(data['ARM_TOT'])\n",
    "print('The secong largest value for Arm TOT is '+str(x))"
   ]
  },
  {
   "cell_type": "code",
   "execution_count": 8,
   "metadata": {
    "collapsed": true
   },
   "outputs": [],
   "source": [
    "#3"
   ]
  },
  {
   "cell_type": "code",
   "execution_count": 12,
   "metadata": {
    "collapsed": false
   },
   "outputs": [
    {
     "data": {
      "text/plain": [
       "Year\n",
       "2001-12-31   -531.00\n",
       "2002-12-31   -482.04\n",
       "2003-12-31   -593.90\n",
       "2004-12-31   -627.80\n",
       "2005-12-31   -827.80\n",
       "Name: Value, dtype: float64"
      ]
     },
     "execution_count": 12,
     "metadata": {},
     "output_type": "execute_result"
    }
   ],
   "source": [
    "exp=quandl.get('WTO/MERCH_EXP_ARM', authtoken =key, trim_start='1992-1-1')\n",
    "imp=quandl.get('WTO/MERCH_IMP_ARM', authtoken =key, trim_start='1992-1-1')\n",
    "netex=exp['Value']-imp['Value']\n",
    "netex.head()\n"
   ]
  },
  {
   "cell_type": "code",
   "execution_count": 13,
   "metadata": {
    "collapsed": false
   },
   "outputs": [
    {
     "data": {
      "text/plain": [
       "<matplotlib.axes._subplots.AxesSubplot at 0xbc5d7f0>"
      ]
     },
     "execution_count": 13,
     "metadata": {},
     "output_type": "execute_result"
    },
    {
     "data": {
      "image/png": "[encoded data removed]",
      "text/plain": [
       "<matplotlib.figure.Figure at 0xb922710>"
      ]
     },
     "metadata": {},
     "output_type": "display_data"
    }
   ],
   "source": [
    "netex.plot()"
   ]
  },
  {
   "cell_type": "code",
   "execution_count": 14,
   "metadata": {
    "collapsed": true
   },
   "outputs": [],
   "source": [
    "#4"
   ]
  },
  {
   "cell_type": "code",
   "execution_count": 15,
   "metadata": {
    "collapsed": false
   },
   "outputs": [
    {
     "data": {
      "text/html": [
       "<div>\n",
       "<table border=\"1\" class=\"dataframe\">\n",
       "  <thead>\n",
       "    <tr style=\"text-align: right;\">\n",
       "      <th></th>\n",
       "      <th>NYX/XBRU_WDP - Close</th>\n",
       "      <th>NYX/XBRU_ACKB - Close</th>\n",
       "      <th>NYX/XAMS_WHA - Close</th>\n",
       "    </tr>\n",
       "    <tr>\n",
       "      <th>Date</th>\n",
       "      <th></th>\n",
       "      <th></th>\n",
       "      <th></th>\n",
       "    </tr>\n",
       "  </thead>\n",
       "  <tbody>\n",
       "    <tr>\n",
       "      <th>2001-01-02</th>\n",
       "      <td>2187.76</td>\n",
       "      <td>32.26</td>\n",
       "      <td>45596.04</td>\n",
       "    </tr>\n",
       "    <tr>\n",
       "      <th>2001-01-03</th>\n",
       "      <td>2187.76</td>\n",
       "      <td>32.30</td>\n",
       "      <td>45509.02</td>\n",
       "    </tr>\n",
       "    <tr>\n",
       "      <th>2001-01-04</th>\n",
       "      <td>2192.57</td>\n",
       "      <td>32.90</td>\n",
       "      <td>46031.11</td>\n",
       "    </tr>\n",
       "    <tr>\n",
       "      <th>2001-01-05</th>\n",
       "      <td>2211.80</td>\n",
       "      <td>33.50</td>\n",
       "      <td>46814.25</td>\n",
       "    </tr>\n",
       "    <tr>\n",
       "      <th>2001-01-08</th>\n",
       "      <td>2211.80</td>\n",
       "      <td>32.10</td>\n",
       "      <td>46640.22</td>\n",
       "    </tr>\n",
       "  </tbody>\n",
       "</table>\n",
       "</div>"
      ],
      "text/plain": [
       "            NYX/XBRU_WDP - Close  NYX/XBRU_ACKB - Close  NYX/XAMS_WHA - Close\n",
       "Date                                                                         \n",
       "2001-01-02               2187.76                  32.26              45596.04\n",
       "2001-01-03               2187.76                  32.30              45509.02\n",
       "2001-01-04               2192.57                  32.90              46031.11\n",
       "2001-01-05               2211.80                  33.50              46814.25\n",
       "2001-01-08               2211.80                  32.10              46640.22"
      ]
     },
     "execution_count": 15,
     "metadata": {},
     "output_type": "execute_result"
    }
   ],
   "source": [
    "data=quandl.get(['NYX/XBRU_WDP','NYX/XBRU_ACKB','NYX/XAMS_WHA'],  authtoken = key, trim_start='2001-01-01',column_index=4)\n",
    "data.head()"
   ]
  },
  {
   "cell_type": "code",
   "execution_count": 16,
   "metadata": {
    "collapsed": false
   },
   "outputs": [
    {
     "data": {
      "text/html": [
       "<div>\n",
       "<table border=\"1\" class=\"dataframe\">\n",
       "  <thead>\n",
       "    <tr style=\"text-align: right;\">\n",
       "      <th></th>\n",
       "      <th>NYX/XBRU_WDP - Close</th>\n",
       "      <th>NYX/XBRU_ACKB - Close</th>\n",
       "      <th>NYX/XAMS_WHA - Close</th>\n",
       "    </tr>\n",
       "  </thead>\n",
       "  <tbody>\n",
       "    <tr>\n",
       "      <th>NYX/XBRU_WDP - Close</th>\n",
       "      <td>1.000000</td>\n",
       "      <td>-0.053363</td>\n",
       "      <td>0.587432</td>\n",
       "    </tr>\n",
       "    <tr>\n",
       "      <th>NYX/XBRU_ACKB - Close</th>\n",
       "      <td>-0.053363</td>\n",
       "      <td>1.000000</td>\n",
       "      <td>-0.006393</td>\n",
       "    </tr>\n",
       "    <tr>\n",
       "      <th>NYX/XAMS_WHA - Close</th>\n",
       "      <td>0.587432</td>\n",
       "      <td>-0.006393</td>\n",
       "      <td>1.000000</td>\n",
       "    </tr>\n",
       "  </tbody>\n",
       "</table>\n",
       "</div>"
      ],
      "text/plain": [
       "                       NYX/XBRU_WDP - Close  NYX/XBRU_ACKB - Close  \\\n",
       "NYX/XBRU_WDP - Close               1.000000              -0.053363   \n",
       "NYX/XBRU_ACKB - Close             -0.053363               1.000000   \n",
       "NYX/XAMS_WHA - Close               0.587432              -0.006393   \n",
       "\n",
       "                       NYX/XAMS_WHA - Close  \n",
       "NYX/XBRU_WDP - Close               0.587432  \n",
       "NYX/XBRU_ACKB - Close             -0.006393  \n",
       "NYX/XAMS_WHA - Close               1.000000  "
      ]
     },
     "execution_count": 16,
     "metadata": {},
     "output_type": "execute_result"
    }
   ],
   "source": [
    "data.corr()"
   ]
  },
  {
   "cell_type": "code",
   "execution_count": 17,
   "metadata": {
    "collapsed": false
   },
   "outputs": [
    {
     "data": {
      "text/plain": [
       "<matplotlib.axes._subplots.AxesSubplot at 0xcd6be80>"
      ]
     },
     "execution_count": 17,
     "metadata": {},
     "output_type": "execute_result"
    },
    {
     "data": {
      "image/png": "[encoded data removed]",
      "text/plain": [
       "<matplotlib.figure.Figure at 0xcd6b748>"
      ]
     },
     "metadata": {},
     "output_type": "display_data"
    }
   ],
   "source": [
    "import seaborn as sns\n",
    "sns.heatmap(data.corr())"
   ]
  },
  {
   "cell_type": "code",
   "execution_count": 18,
   "metadata": {
    "collapsed": true
   },
   "outputs": [],
   "source": [
    "#5"
   ]
  },
  {
   "cell_type": "code",
   "execution_count": 19,
   "metadata": {
    "collapsed": true
   },
   "outputs": [],
   "source": [
    "import googlemaps\n",
    "from datetime import datetime\n",
    "now=datetime.now()\n",
    "with open('key_google.txt','r') as f:\n",
    "    key=f.read()"
   ]
  },
  {
   "cell_type": "code",
   "execution_count": 20,
   "metadata": {
    "collapsed": true
   },
   "outputs": [],
   "source": [
    "gmaps=googlemaps.Client(key=key)"
   ]
  },
  {
   "cell_type": "code",
   "execution_count": 21,
   "metadata": {
    "collapsed": false
   },
   "outputs": [
    {
     "name": "stdout",
     "output_type": "stream",
     "text": [
      " Type city name North Washington, Iowa\n",
      " Type city name Washington, North Carolina\n",
      " Type city name Springfield, Florida\n",
      " Type city name Franklin, Georgia\n",
      " Type city name Franklin, Virginia\n",
      " Type city name Greenville, Ohio\n",
      " Type city name Bristol, Missouri\n",
      " Type city name Clinton, Kentucky\n",
      " Type city name Madison, Kansas\n",
      " Type city name Georgetown, Illinois\n",
      "['North Washington, Iowa', 'Washington, North Carolina', 'Springfield, Florida', 'Franklin, Georgia', 'Franklin, Virginia', 'Greenville, Ohio', 'Bristol, Missouri', 'Clinton, Kentucky', 'Madison, Kansas', 'Georgetown, Illinois']\n"
     ]
    }
   ],
   "source": [
    "city1=raw_input(' Type city name ')\n",
    "city2=raw_input(' Type city name ')\n",
    "city3=raw_input(' Type city name ')\n",
    "city4=raw_input(' Type city name ')\n",
    "city5=raw_input(' Type city name ')\n",
    "city6=raw_input(' Type city name ')\n",
    "city7=raw_input(' Type city name ')\n",
    "city8=raw_input(' Type city name ')\n",
    "city9=raw_input(' Type city name ')\n",
    "city10=raw_input(' Type city name ')\n",
    "\n",
    "list_cities=[city1,city2,city3,city4,city5,city6,city7,city8,city9,city10]\n",
    "print list_cities"
   ]
  },
  {
   "cell_type": "code",
   "execution_count": 22,
   "metadata": {
    "collapsed": false
   },
   "outputs": [
    {
     "name": "stdout",
     "output_type": "stream",
     "text": [
      "[{u'text': u'1,131 mi', u'value': 1820743},\n",
      " {u'text': u'512 mi', u'value': 823577},\n",
      " {u'text': u'1,191 mi', u'value': 1917101},\n",
      " {u'text': u'946 mi', u'value': 1522078},\n",
      " {u'text': u'404 mi', u'value': 650667},\n",
      " {u'text': u'634 mi', u'value': 1020527},\n",
      " {u'text': u'1,196 mi', u'value': 1924854},\n",
      " {u'text': u'994 mi', u'value': 1600423},\n",
      " {u'text': u'1,319 mi', u'value': 2121924},\n",
      " {u'text': u'811 mi', u'value': 1305271}]\n"
     ]
    }
   ],
   "source": [
    "new_list=[]\n",
    "for city in list_cities:\n",
    "    directions=gmaps.directions(city, 'New York, NY, United States', departure_time=datetime.now())\n",
    "    new_list.append(directions[0]['legs'][0]['distance'])\n",
    "from pprint import pprint \n",
    "pprint (new_list)"
   ]
  },
  {
   "cell_type": "code",
   "execution_count": 23,
   "metadata": {
    "collapsed": false
   },
   "outputs": [
    {
     "name": "stdout",
     "output_type": "stream",
     "text": [
      "[1820.16354, 823.98208, 1916.72394, 1522.43564, 650.17336, 1020.32156, 1924.77064, 1599.68396, 2122.71946, 1305.17474]\n"
     ]
    }
   ],
   "source": [
    "import re\n",
    "km=[]\n",
    "for i in new_list:\n",
    "    text=i['text']\n",
    "    if text[-2]=='m':\n",
    "        digits=re.findall(\"([0-9]+.*[0-9]*)\\s\",text)\n",
    "        subs=re.sub(\",\",\"\",digits[0])\n",
    "        x=int(subs)*1.60934\n",
    "    else:\n",
    "        digits=re.findall(\"([0-9]+.*[0-9]*)\\s\",text)\n",
    "        subs=re.sub(\",\",\"\",digits[0])\n",
    "        x=int(subs)\n",
    "    km.append(x)\n",
    "print (km)"
   ]
  },
  {
   "cell_type": "code",
   "execution_count": 26,
   "metadata": {
    "collapsed": false
   },
   "outputs": [
    {
     "name": "stdout",
     "output_type": "stream",
     "text": [
      "[{'city': 'North Washington, Iowa', 'distance': '1820.16354 km from NY'},\n",
      " {'city': 'Washington, North Carolina', 'distance': '823.98208 km from NY'},\n",
      " {'city': 'Springfield, Florida', 'distance': '1916.72394 km from NY'},\n",
      " {'city': 'Franklin, Georgia', 'distance': '1522.43564 km from NY'},\n",
      " {'city': 'Franklin, Virginia', 'distance': '650.17336 km from NY'},\n",
      " {'city': 'Greenville, Ohio', 'distance': '1020.32156 km from NY'},\n",
      " {'city': 'Bristol, Missouri', 'distance': '1924.77064 km from NY'},\n",
      " {'city': 'Clinton, Kentucky', 'distance': '1599.68396 km from NY'},\n",
      " {'city': 'Madison, Kansas', 'distance': '2122.71946 km from NY'},\n",
      " {'city': 'Georgetown, Illinois', 'distance': '1305.17474 km from NY'}]\n"
     ]
    }
   ],
   "source": [
    "final_list=[]\n",
    "for i in range(0,len(km)):\n",
    "    dictionary={\"city\":list_cities[i],'distance':str(km[i])+\" km from NY\"}\n",
    "    final_list.append(dictionary)\n",
    "pprint(final_list)"
   ]
  },
  {
   "cell_type": "code",
   "execution_count": null,
   "metadata": {
    "collapsed": true
   },
   "outputs": [],
   "source": []
  }
 ],
 "metadata": {
  "kernelspec": {
   "display_name": "Python 2",
   "language": "python",
   "name": "python2"
  },
  "language_info": {
   "codemirror_mode": {
    "name": "ipython",
    "version": 2
   },
   "file_extension": ".py",
   "mimetype": "text/x-python",
   "name": "python",
   "nbconvert_exporter": "python",
   "pygments_lexer": "ipython2",
   "version": "2.7.13"
  }
 },
 "nbformat": 4,
 "nbformat_minor": 2
}
